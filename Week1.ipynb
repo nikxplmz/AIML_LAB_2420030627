{
  "nbformat": 4,
  "nbformat_minor": 0,
  "metadata": {
    "colab": {
      "provenance": []
    },
    "kernelspec": {
      "name": "python3",
      "display_name": "Python 3"
    },
    "language_info": {
      "name": "python"
    }
  },
  "cells": [
    {
      "cell_type": "code",
      "execution_count": 1,
      "metadata": {
        "colab": {
          "base_uri": "https://localhost:8080/"
        },
        "id": "HXY-OQpGfdzV",
        "outputId": "bf1384ba-fa73-43e8-b3e3-b3ad7bcde648"
      },
      "outputs": [
        {
          "output_type": "stream",
          "name": "stdout",
          "text": [
            "Breadth First Traversal starting from vertex 2:\n",
            "2 0 3 1 \n",
            "Depth First Traversal starting from vertex 2:\n",
            "2 0 1 3 "
          ]
        }
      ],
      "source": [
        "from collections import deque, defaultdict\n",
        "\n",
        "class Graph:\n",
        "    def __init__(self):\n",
        "        self.graph = defaultdict(list)\n",
        "\n",
        "    def addEdge(self, u, v):\n",
        "        self.graph[u].append(v)\n",
        "\n",
        "    def BFS(self, s):\n",
        "        visited = [False] * (max(self.graph) + 1)\n",
        "        queue = []\n",
        "        queue.append(s)\n",
        "        visited[s] = True\n",
        "        while len(queue) > 0:\n",
        "            s = queue.pop(0)\n",
        "            print(s, end=\" \")\n",
        "            for i in self.graph[s]:\n",
        "                if not visited[i]:\n",
        "                    queue.append(i)\n",
        "                    visited[i] = True\n",
        "\n",
        "    def DFSUtil(self, v, visited):\n",
        "        visited[v] = True\n",
        "        print(v, end=\" \")\n",
        "        for i in self.graph[v]:\n",
        "            if not visited[i]:\n",
        "                self.DFSUtil(i, visited)\n",
        "\n",
        "    def DFS(self, v):\n",
        "        visited = [False] * (max(self.graph) + 1)\n",
        "        self.DFSUtil(v, visited)\n",
        "\n",
        "graph = Graph()\n",
        "graph.addEdge(0, 1)\n",
        "graph.addEdge(0, 2)\n",
        "graph.addEdge(1, 2)\n",
        "graph.addEdge(2, 0)\n",
        "graph.addEdge(2, 3)\n",
        "graph.addEdge(3, 3)\n",
        "\n",
        "print(\"Breadth First Traversal starting from vertex 2:\")\n",
        "graph.BFS(2)\n",
        "print(\"\\nDepth First Traversal starting from vertex 2:\")\n",
        "graph.DFS(2)\n"
      ]
    }
  ]
}