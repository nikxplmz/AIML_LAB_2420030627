{
  "nbformat": 4,
  "nbformat_minor": 0,
  "metadata": {
    "colab": {
      "provenance": []
    },
    "kernelspec": {
      "name": "python3",
      "display_name": "Python 3"
    },
    "language_info": {
      "name": "python"
    }
  },
  "cells": [
    {
      "cell_type": "code",
      "execution_count": 4,
      "metadata": {
        "id": "jAmRxt4Nf-DJ"
      },
      "outputs": [],
      "source": [
        "import heapq\n",
        "\n",
        "def a_star(graph, start, goal, heuristic):\n",
        "    open_set = []\n",
        "    heapq.heappush(open_set, (heuristic(start), start))\n",
        "    g_score = {node: float('inf') for node in graph}\n",
        "    g_score[start] = 0\n",
        "    came_from = {}\n",
        "    closed_set = set()\n",
        "\n",
        "    while open_set:\n",
        "        _, current = heapq.heappop(open_set)\n",
        "        if current == goal:\n",
        "            path = []\n",
        "            while current in came_from:\n",
        "                path.append(current)\n",
        "                current = came_from[current]\n",
        "            path.append(start)\n",
        "            path.reverse()\n",
        "            return path\n",
        "\n",
        "        closed_set.add(current)\n",
        "\n",
        "        for neighbor, cost in graph[current]:\n",
        "            if neighbor in closed_set:\n",
        "                continue\n",
        "            tentative_g = g_score[current] + cost\n",
        "            if tentative_g < g_score.get(neighbor, float('inf')):\n",
        "                came_from[neighbor] = current\n",
        "                g_score[neighbor] = tentative_g\n",
        "                f_score = tentative_g + heuristic(neighbor)\n",
        "                heapq.heappush(open_set, (f_score, neighbor))\n",
        "    return None\n",
        "\n",
        "def depth_limited_search(graph, current, goal, depth, visited):\n",
        "    if depth == 0 and current == goal:\n",
        "        return True\n",
        "    if depth > 0:\n",
        "        visited.add(current)\n",
        "        for neighbor in graph[current]:\n",
        "            if neighbor not in visited:\n",
        "                if depth_limited_search(graph, neighbor, goal, depth - 1, visited):\n",
        "                    return True\n",
        "        visited.remove(current)\n",
        "    return False\n",
        "\n",
        "def iterative_deepening_dfs(graph, start, goal, max_depth):\n",
        "    for depth in range(max_depth+1):\n",
        "        visited = set()\n",
        "        if depth_limited_search(graph, start, goal, depth, visited):\n",
        "            return True\n",
        "    return False\n"
      ]
    }
  ]
}