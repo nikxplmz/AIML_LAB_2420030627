{
  "nbformat": 4,
  "nbformat_minor": 0,
  "metadata": {
    "colab": {
      "provenance": []
    },
    "kernelspec": {
      "name": "python3",
      "display_name": "Python 3"
    },
    "language_info": {
      "name": "python"
    }
  },
  "cells": [
    {
      "cell_type": "code",
      "execution_count": 3,
      "metadata": {
        "colab": {
          "base_uri": "https://localhost:8080/"
        },
        "id": "N2rEhqVcgWtz",
        "outputId": "1e524031-2e70-40fb-e007-bf87b89157de"
      },
      "outputs": [
        {
          "output_type": "stream",
          "name": "stdout",
          "text": [
            "Assigned Colors: [1, 2, 3, 1, 2]\n",
            "Timetable solutions: [{'Chemistry': 'Wed', 'Math': 'Tue', 'Physics': 'Mon'}, {'Chemistry': 'Wed', 'Math': 'Mon', 'Physics': 'Tue'}, {'Chemistry': 'Tue', 'Math': 'Wed', 'Physics': 'Mon'}, {'Chemistry': 'Tue', 'Math': 'Mon', 'Physics': 'Wed'}, {'Chemistry': 'Mon', 'Math': 'Tue', 'Physics': 'Wed'}, {'Chemistry': 'Mon', 'Math': 'Wed', 'Physics': 'Tue'}]\n"
          ]
        }
      ],
      "source": [
        "class GraphColoring:\n",
        "    def __init__(self, vertices):\n",
        "        self.V = vertices\n",
        "        self.graph = [[0 for column in range(vertices)] for row in range(vertices)]\n",
        "        self.color = [0] * vertices\n",
        "\n",
        "    def add_edge(self, u, v):\n",
        "        self.graph[u][v] = 1\n",
        "        self.graph[v][u] = 1\n",
        "\n",
        "    def is_safe(self, v, c):\n",
        "        for i in range(self.V):\n",
        "            if self.graph[v][i] == 1 and self.color[i] == c:\n",
        "                return False\n",
        "        return True\n",
        "\n",
        "    def graph_coloring_util(self, m, v=0):\n",
        "        if v == self.V:\n",
        "            return True\n",
        "        for c in range(1, m + 1):\n",
        "            if self.is_safe(v, c):\n",
        "                self.color[v] = c\n",
        "                if self.graph_coloring_util(m, v + 1):\n",
        "                    return True\n",
        "                self.color[v] = 0\n",
        "        return False\n",
        "\n",
        "    def graph_coloring(self, m):\n",
        "        if not self.graph_coloring_util(m):\n",
        "            return None\n",
        "        return self.color\n",
        "\n",
        "color_graph = GraphColoring(5)\n",
        "color_graph.add_edge(0, 1)\n",
        "color_graph.add_edge(0, 2)\n",
        "color_graph.add_edge(1, 2)\n",
        "color_graph.add_edge(1, 3)\n",
        "color_graph.add_edge(2, 3)\n",
        "color_graph.add_edge(3, 4)\n",
        "assigned_colors = color_graph.graph_coloring(3)\n",
        "print(\"Assigned Colors:\", assigned_colors)\n",
        "\n",
        "\n",
        "from constraint import Problem\n",
        "\n",
        "def timetable_csp():\n",
        "    problem = Problem()\n",
        "    problem.addVariable(\"Math\", [\"Mon\", \"Tue\", \"Wed\"])\n",
        "    problem.addVariable(\"Physics\", [\"Mon\", \"Tue\", \"Wed\"])\n",
        "    problem.addVariable(\"Chemistry\", [\"Mon\", \"Tue\", \"Wed\"])\n",
        "    problem.addConstraint(lambda m, p: m != p, (\"Math\", \"Physics\"))\n",
        "    problem.addConstraint(lambda p, c: p != c, (\"Physics\", \"Chemistry\"))\n",
        "    problem.addConstraint(lambda m, c: m != c, (\"Math\", \"Chemistry\"))\n",
        "    return problem.getSolutions()\n",
        "\n",
        "solutions = timetable_csp()\n",
        "print(\"Timetable solutions:\", solutions)\n"
      ]
    },
    {
      "cell_type": "code",
      "metadata": {
        "colab": {
          "base_uri": "https://localhost:8080/"
        },
        "id": "5fff2a33",
        "outputId": "57c913a3-d6b5-4e54-f8ec-4cc98c2ea81e"
      },
      "source": [
        "!pip install python-constraint"
      ],
      "execution_count": 2,
      "outputs": [
        {
          "output_type": "stream",
          "name": "stdout",
          "text": [
            "Collecting python-constraint\n",
            "  Downloading python-constraint-1.4.0.tar.bz2 (18 kB)\n",
            "  Preparing metadata (setup.py) ... \u001b[?25l\u001b[?25hdone\n",
            "Building wheels for collected packages: python-constraint\n",
            "  Building wheel for python-constraint (setup.py) ... \u001b[?25l\u001b[?25hdone\n",
            "  Created wheel for python-constraint: filename=python_constraint-1.4.0-py2.py3-none-any.whl size=24061 sha256=e8dd6a5152923d1061943cc3ceb00622a645c01e274e3f0d976d7367abdc3e6c\n",
            "  Stored in directory: /root/.cache/pip/wheels/c1/d2/3d/082849b61a9c6de02d4a7c8a402c224640f08d8a971307b92b\n",
            "Successfully built python-constraint\n",
            "Installing collected packages: python-constraint\n",
            "Successfully installed python-constraint-1.4.0\n"
          ]
        }
      ]
    }
  ]
}