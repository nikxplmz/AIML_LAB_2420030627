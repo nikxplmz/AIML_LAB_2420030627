{
  "nbformat": 4,
  "nbformat_minor": 0,
  "metadata": {
    "colab": {
      "provenance": []
    },
    "kernelspec": {
      "name": "python3",
      "display_name": "Python 3"
    },
    "language_info": {
      "name": "python"
    }
  },
  "cells": [
    {
      "cell_type": "code",
      "execution_count": 1,
      "metadata": {
        "colab": {
          "base_uri": "https://localhost:8080/"
        },
        "id": "c-GoThA8g5vr",
        "outputId": "413cf7ed-1aff-451f-9bea-3798fbe68e55"
      },
      "outputs": [
        {
          "output_type": "stream",
          "name": "stdout",
          "text": [
            "Scaled DataFrame:\n",
            "      A      B\n",
            "0  0.25  0.500\n",
            "1  0.00  0.625\n",
            "2  0.75  0.000\n",
            "3  1.00  0.875\n",
            "4  0.00  1.000\n"
          ]
        }
      ],
      "source": [
        "import pandas as pd\n",
        "from sklearn.preprocessing import MinMaxScaler\n",
        "\n",
        "data_dict = {'A': [1, None, 3, 4, None], 'B': [4, 5, None, 7, 8]}\n",
        "df = pd.DataFrame(data_dict)\n",
        "\n",
        "df_cleaned = df.fillna(0)\n",
        "\n",
        "scaler = MinMaxScaler()\n",
        "scaled_array = scaler.fit_transform(df_cleaned)\n",
        "\n",
        "scaled_df = pd.DataFrame(scaled_array, columns=df.columns)\n",
        "print(\"Scaled DataFrame:\")\n",
        "print(scaled_df)\n"
      ]
    }
  ]
}