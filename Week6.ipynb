{
  "nbformat": 4,
  "nbformat_minor": 0,
  "metadata": {
    "colab": {
      "provenance": []
    },
    "kernelspec": {
      "name": "python3",
      "display_name": "Python 3"
    },
    "language_info": {
      "name": "python"
    }
  },
  "cells": [
    {
      "cell_type": "code",
      "execution_count": 1,
      "metadata": {
        "id": "hCvfyMrihZYm",
        "colab": {
          "base_uri": "https://localhost:8080/"
        },
        "outputId": "d65e84ef-3588-4fe4-fa1f-da82bc918cdf"
      },
      "outputs": [
        {
          "output_type": "stream",
          "name": "stdout",
          "text": [
            "Coefficients: [3.]\n",
            "Intercept: 3.552713678800501e-15\n",
            "Predictions: [24. 27.]\n"
          ]
        }
      ],
      "source": [
        "import numpy as np\n",
        "from sklearn.linear_model import LinearRegression\n",
        "\n",
        "X = np.array([[1], [2], [3], [4], [5], [6], [7]])\n",
        "y = np.array([3, 6, 9, 12, 15, 18, 21])\n",
        "\n",
        "model = LinearRegression()\n",
        "model.fit(X, y)\n",
        "\n",
        "predicted = model.predict(np.array([[8], [9]]))\n",
        "\n",
        "print(\"Coefficients:\", model.coef_)\n",
        "print(\"Intercept:\", model.intercept_)\n",
        "print(\"Predictions:\", predicted)\n"
      ]
    }
  ]
}