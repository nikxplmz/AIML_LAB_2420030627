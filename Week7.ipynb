{
  "nbformat": 4,
  "nbformat_minor": 0,
  "metadata": {
    "colab": {
      "provenance": []
    },
    "kernelspec": {
      "name": "python3",
      "display_name": "Python 3"
    },
    "language_info": {
      "name": "python"
    }
  },
  "cells": [
    {
      "cell_type": "code",
      "execution_count": 1,
      "metadata": {
        "colab": {
          "base_uri": "https://localhost:8080/"
        },
        "id": "Mv85EPN3h9z1",
        "outputId": "af3e0e05-e5e9-4d09-8ca6-ef1428ff880c"
      },
      "outputs": [
        {
          "output_type": "stream",
          "name": "stdout",
          "text": [
            "Predictions: [0 0 1]\n"
          ]
        }
      ],
      "source": [
        "from sklearn.linear_model import LogisticRegression\n",
        "import numpy as np\n",
        "\n",
        "X = np.array([[0.5], [1.5], [2.5], [3.5], [4.5]])\n",
        "y = np.array([0, 0, 0, 1, 1])\n",
        "\n",
        "model = LogisticRegression()\n",
        "model.fit(X, y)\n",
        "\n",
        "predictions = model.predict(np.array([[1], [3], [4]]))\n",
        "\n",
        "print(\"Predictions:\", predictions)\n"
      ]
    }
  ]
}